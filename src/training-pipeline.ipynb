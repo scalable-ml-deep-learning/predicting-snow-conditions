{
 "cells": [
  {
   "cell_type": "markdown",
   "metadata": {
    "id": "PZE9x14801nN"
   },
   "source": [
    "### XGBoost tutorial from Kaggle re-adapted\n",
    "\n",
    "Source: https://www.kaggle.com/code/robikscube/tutorial-time-series-forecasting-with-xgboost/notebook\n",
    "\n",
    "Source 2: https://cprosenjit.medium.com/10-time-series-forecasting-methods-we-should-know-291037d2e285"
   ]
  },
  {
   "cell_type": "markdown",
   "metadata": {
    "id": "ZKmuAsAY1DpC"
   },
   "source": [
    "## Data"
   ]
  },
  {
   "cell_type": "code",
   "execution_count": null,
   "metadata": {
    "id": "yIiiR4L71C2l"
   },
   "outputs": [],
   "source": [
    "import os\n",
    "import modal\n",
    "import hopsworks\n",
    "import pandas as pd\n",
    "import xgboost as xgb\n",
    "import joblib\n",
    "import seaborn as sns\n",
    "from xgboost import plot_importance, plot_tree\n",
    "from sklearn.metrics import mean_squared_error, mean_absolute_error\n",
    "from matplotlib import pyplot\n",
    "from hsml.schema import Schema\n",
    "from hsml.model_schema import ModelSchema"
   ]
  },
  {
   "cell_type": "code",
   "execution_count": null,
   "metadata": {},
   "outputs": [],
   "source": [
    "# You have to set the environment variable 'HOPSWORKS_API_KEY' for login to succeed\n",
    "project = hopsworks.login()\n",
    "# fs is a reference to the Hopsworks Feature Store\n",
    "fs = project.get_feature_store()\n",
    "\n",
    "# The feature view is the input set of features for your model. The features can come from different feature groups.    \n",
    "# You can select features from different feature groups and join them together to create a feature view\n",
    "try: \n",
    "    ###################################\n",
    "    # COMBINE FEATURE VIEWS WITH JOIN #\n",
    "    ###################################\n",
    "    feature_view = fs.get_feature_view(name=\"snow_weather_data\", version=1)\n",
    "except:\n",
    "    snow_weather_fg = fs.get_feature_group(name=\"snow_weather_data\", version=1)\n",
    "    query = snow_weather_fg.select_all()\n",
    "    feature_view = fs.create_feature_view(name=\"snow_weather_data\",\n",
    "                                      version=1,\n",
    "                                      description=\"Predicting snow depth.\",\n",
    "                                      labels=[\"hs\"],\n",
    "                                      query=query) "
   ]
  },
  {
   "cell_type": "markdown",
   "metadata": {
    "id": "pTV6rmJ11Oez"
   },
   "source": [
    "## Train test split"
   ]
  },
  {
   "cell_type": "code",
   "execution_count": null,
   "metadata": {
    "id": "6t8RppiY1QJe"
   },
   "outputs": [],
   "source": [
    "# You can read training data, randomly split into train/test sets of features (X) and labels (y)        \n",
    "X_train, X_test, y_train, y_test = feature_view.train_test_split(0.1)\n",
    "print(\"X train: \", X_train, \"Y train: \", y_train)"
   ]
  },
  {
   "cell_type": "markdown",
   "metadata": {},
   "source": [
    "## Model XGBoost"
   ]
  },
  {
   "cell_type": "code",
   "execution_count": null,
   "metadata": {
    "id": "0QvtLd9j1UPi"
   },
   "outputs": [],
   "source": [
    "# Train our model with the Scikit-learn XGBoost algorithm using our features (X_train) and labels (y_train)\n",
    "model = xgb.XGBRegressor(n_estimators=1000)\n",
    "model.fit(X_train, y_train,\n",
    "    eval_set=[(X_train, y_train), (X_test, y_test)],\n",
    "    early_stopping_rounds=50,\n",
    "    verbose=False) # Change verbose to True if you want to see it train"
   ]
  },
  {
   "cell_type": "markdown",
   "metadata": {},
   "source": [
    "## Prediction on test"
   ]
  },
  {
   "cell_type": "code",
   "execution_count": null,
   "metadata": {},
   "outputs": [],
   "source": [
    "# Evaluate model performance using the features from the test set (X_test)\n",
    "y_pred = model.predict(X_test)"
   ]
  },
  {
   "cell_type": "code",
   "execution_count": null,
   "metadata": {},
   "outputs": [],
   "source": [
    "# Compare predictions (y_pred) with the labels in the test set (y_test)\n",
    "metrics = classification_report(y_test, y_pred, output_dict=True)\n",
    "results = confusion_matrix(y_test, y_pred)"
   ]
  },
  {
   "cell_type": "code",
   "execution_count": null,
   "metadata": {},
   "outputs": [],
   "source": [
    "# We will now upload our model to the Hopsworks Model Registry. First get an object for the model registry.\n",
    "mr = project.get_model_registry()\n",
    "\n",
    "# The contents of the 'titanic_model' directory will be saved to the model registry. Create the dir, first.\n",
    "model_dir=\"titanic_model\"\n",
    "if os.path.isdir(model_dir) == False:\n",
    "    os.mkdir(model_dir)\n",
    "\n",
    "# Save both our model and the confusion matrix to 'model_dir', whose contents will be uploaded to the model registry\n",
    "joblib.dump(model, model_dir + \"/titanic_model.pkl\")\n",
    "fig.savefig(model_dir + \"/confusion_matrix.png\")    \n",
    "\n",
    "# Specify the schema of the model's input/output using the features (X_train) and labels (y_train)\n",
    "input_schema = Schema(X_train)\n",
    "output_schema = Schema(y_train)\n",
    "model_schema = ModelSchema(input_schema, output_schema)\n",
    "\n",
    "# Create an entry in the model registry that includes the model's name, desc, metrics\n",
    "titanic_model = mr.python.create_model(\n",
    "    name=\"titanic_modal\", \n",
    "    metrics={\"accuracy\" : metrics['accuracy']},\n",
    "    model_schema=model_schema,\n",
    "    description=\"Titanic survival Predictor\"\n",
    ")\n",
    "\n",
    "# Upload the model to the model registry, including all files in 'model_dir'\n",
    "titanic_model.save(model_dir)\n",
    "    \n",
    "if __name__ == \"__main__\":\n",
    "    if LOCAL == True :\n",
    "        g()\n",
    "    else:\n",
    "        with stub.run():\n",
    "            f()"
   ]
  }
 ],
 "metadata": {
  "colab": {
   "authorship_tag": "ABX9TyMfFZ0qcV2uUQtHbxmDZr/L",
   "provenance": []
  },
  "kernelspec": {
   "display_name": "Python 3 (ipykernel)",
   "language": "python",
   "name": "python3"
  },
  "language_info": {
   "codemirror_mode": {
    "name": "ipython",
    "version": 3
   },
   "file_extension": ".py",
   "mimetype": "text/x-python",
   "name": "python",
   "nbconvert_exporter": "python",
   "pygments_lexer": "ipython3",
   "version": "3.8.10"
  }
 },
 "nbformat": 4,
 "nbformat_minor": 1
}
